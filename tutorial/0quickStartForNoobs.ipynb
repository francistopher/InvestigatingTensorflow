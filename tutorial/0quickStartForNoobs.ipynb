{
 "cells": [
  {
   "cell_type": "code",
   "execution_count": 1,
   "id": "73ebbf48",
   "metadata": {},
   "outputs": [
    {
     "name": "stdout",
     "output_type": "stream",
     "text": [
      "Init Plugin\n",
      "Init Graph Optimizer\n",
      "Init Kernel\n"
     ]
    }
   ],
   "source": [
    "import tensorflow as tf # import tensorflow"
   ]
  },
  {
   "cell_type": "code",
   "execution_count": 2,
   "id": "10b7a2eb",
   "metadata": {},
   "outputs": [],
   "source": [
    "mnist = tf.keras.datasets.mnist # load mnist\n",
    "(x_train, y_train), (x_test, y_test) = mnist.load_data() # load data from mnist"
   ]
  },
  {
   "cell_type": "code",
   "execution_count": 4,
   "id": "556b1235",
   "metadata": {},
   "outputs": [
    {
     "name": "stdout",
     "output_type": "stream",
     "text": [
      "Metal device set to: Apple M1\n"
     ]
    },
    {
     "name": "stderr",
     "output_type": "stream",
     "text": [
      "2022-07-06 15:23:06.527883: I tensorflow/core/common_runtime/pluggable_device/pluggable_device_factory.cc:305] Could not identify NUMA node of platform GPU ID 0, defaulting to 0. Your kernel may not have been built with NUMA support.\n",
      "2022-07-06 15:23:06.528185: I tensorflow/core/common_runtime/pluggable_device/pluggable_device_factory.cc:271] Created TensorFlow device (/job:localhost/replica:0/task:0/device:GPU:0 with 0 MB memory) -> physical PluggableDevice (device: 0, name: METAL, pci bus id: <undefined>)\n"
     ]
    }
   ],
   "source": [
    "model = tf.keras.models.Sequential([ # create a sequentially layered model\n",
    "    tf.keras.layers.Flatten(input_shape=(28, 28)), # 'flatten' multidimensional input to 1D output\n",
    "    tf.keras.layers.Dense(128, activation='relu'), # subsequent neurons have connections to all other prior neurons\n",
    "    tf.keras.layers.Dropout(0.2), # prevent overfitting\n",
    "    tf.keras.layers.Dense(10) # output with 10 dimensions\n",
    "])"
   ]
  },
  {
   "cell_type": "code",
   "execution_count": 10,
   "id": "87196414",
   "metadata": {},
   "outputs": [
    {
     "data": {
      "text/plain": [
       "array([[ 109.440674,  -56.062954,    4.429161,   25.45996 , -177.85928 ,\n",
       "         -81.903595,  -71.37429 ,  220.72215 ,   78.90222 ,  156.23642 ]],\n",
       "      dtype=float32)"
      ]
     },
     "execution_count": 10,
     "metadata": {},
     "output_type": "execute_result"
    }
   ],
   "source": [
    "predictions = model(x_train[:1]).numpy() # predictions from model of the first cell of the training x data\n",
    "predictions"
   ]
  },
  {
   "cell_type": "code",
   "execution_count": 13,
   "id": "905631f1",
   "metadata": {},
   "outputs": [
    {
     "data": {
      "text/plain": [
       "array([[0.000000e+00, 0.000000e+00, 0.000000e+00, 0.000000e+00,\n",
       "        0.000000e+00, 0.000000e+00, 0.000000e+00, 1.000000e+00,\n",
       "        0.000000e+00, 9.867371e-29]], dtype=float32)"
      ]
     },
     "execution_count": 13,
     "metadata": {},
     "output_type": "execute_result"
    }
   ],
   "source": [
    "probabilities = tf.nn.softmax(predictions).numpy() # activation functions to output probabilities\n",
    "probabilities"
   ]
  },
  {
   "cell_type": "code",
   "execution_count": 15,
   "id": "14108015",
   "metadata": {},
   "outputs": [
    {
     "data": {
      "text/plain": [
       "302.62573"
      ]
     },
     "execution_count": 15,
     "metadata": {},
     "output_type": "execute_result"
    }
   ],
   "source": [
    "loss_fn = tf.keras.losses.SparseCategoricalCrossentropy(from_logits=True) # diff between expected and produced quantified\n",
    "initial_loss = loss_fn(y_train[:1], predictions).numpy() # expected first cell, produced; quantified\n",
    "initial_loss"
   ]
  },
  {
   "cell_type": "code",
   "execution_count": 16,
   "id": "57c2adbf",
   "metadata": {},
   "outputs": [],
   "source": [
    "model.compile(optimizer='adam', # compile model using learning rate optimizer\n",
    "              loss = loss_fn, # measures how good the algorithms models the data set\n",
    "              metrics = ['accuracy']) # check accuracy"
   ]
  },
  {
   "cell_type": "code",
   "execution_count": 18,
   "id": "f6c6b983",
   "metadata": {},
   "outputs": [
    {
     "name": "stderr",
     "output_type": "stream",
     "text": [
      "2022-07-06 15:37:27.431234: I tensorflow/compiler/mlir/mlir_graph_optimization_pass.cc:176] None of the MLIR Optimization Passes are enabled (registered 2)\n",
      "2022-07-06 15:37:27.431430: W tensorflow/core/platform/profile_utils/cpu_utils.cc:128] Failed to get CPU frequency: 0 Hz\n",
      "2022-07-06 15:37:27.576685: I tensorflow/core/grappler/optimizers/custom_graph_optimizer_registry.cc:112] Plugin optimizer for device_type GPU is enabled.\n"
     ]
    },
    {
     "name": "stdout",
     "output_type": "stream",
     "text": [
      "Epoch 1/5\n",
      "1875/1875 [==============================] - 7s 4ms/step - loss: 2.6774 - accuracy: 0.7538\n",
      "Epoch 2/5\n",
      "1875/1875 [==============================] - 7s 4ms/step - loss: 0.6152 - accuracy: 0.8380\n",
      "Epoch 3/5\n",
      "1875/1875 [==============================] - 7s 4ms/step - loss: 0.4885 - accuracy: 0.8751\n",
      "Epoch 4/5\n",
      "1875/1875 [==============================] - 7s 4ms/step - loss: 0.4254 - accuracy: 0.8907\n",
      "Epoch 5/5\n",
      "1875/1875 [==============================] - 7s 4ms/step - loss: 0.3808 - accuracy: 0.9025\n"
     ]
    },
    {
     "data": {
      "text/plain": [
       "<tensorflow.python.keras.callbacks.History at 0x16bc2b190>"
      ]
     },
     "execution_count": 18,
     "metadata": {},
     "output_type": "execute_result"
    }
   ],
   "source": [
    "model.fit(x_train, y_train, epochs=5) # train model"
   ]
  },
  {
   "cell_type": "code",
   "execution_count": 19,
   "id": "f7ff4af3",
   "metadata": {},
   "outputs": [
    {
     "name": "stderr",
     "output_type": "stream",
     "text": [
      "2022-07-06 15:41:26.469595: I tensorflow/core/grappler/optimizers/custom_graph_optimizer_registry.cc:112] Plugin optimizer for device_type GPU is enabled.\n"
     ]
    },
    {
     "name": "stdout",
     "output_type": "stream",
     "text": [
      "313/313 - 1s - loss: 0.2982 - accuracy: 0.9329\n"
     ]
    },
    {
     "data": {
      "text/plain": [
       "[0.29815033078193665, 0.932900071144104]"
      ]
     },
     "execution_count": 19,
     "metadata": {},
     "output_type": "execute_result"
    }
   ],
   "source": [
    "model.evaluate(x_test, y_test, verbose=2) # evaluate model"
   ]
  },
  {
   "cell_type": "code",
   "execution_count": 22,
   "id": "ca585a65",
   "metadata": {},
   "outputs": [
    {
     "data": {
      "text/plain": [
       "<tf.Tensor: shape=(5, 10), dtype=float32, numpy=\n",
       "array([[0.00000000e+00, 4.59512040e-13, 3.33368194e-11, 6.34492947e-09,\n",
       "        1.98784847e-12, 1.44386229e-17, 0.00000000e+00, 1.00000000e+00,\n",
       "        1.09059746e-35, 1.98759923e-15],\n",
       "       [3.34717258e-12, 4.95174675e-08, 9.99999642e-01, 2.16364580e-08,\n",
       "        0.00000000e+00, 2.82257976e-26, 4.48725037e-25, 2.52221270e-07,\n",
       "        4.28821215e-12, 2.62233798e-33],\n",
       "       [0.00000000e+00, 9.99999523e-01, 1.96364973e-12, 1.31123161e-12,\n",
       "        2.13955520e-11, 5.29860200e-23, 1.38060667e-24, 4.56344139e-07,\n",
       "        4.40080555e-10, 5.65926718e-26],\n",
       "       [1.00000000e+00, 3.48105056e-33, 4.76972739e-10, 1.11032989e-13,\n",
       "        5.92133561e-14, 1.41407229e-14, 2.81495442e-14, 4.35672443e-10,\n",
       "        8.13384934e-16, 4.37861553e-12],\n",
       "       [3.22080931e-13, 1.19758911e-10, 1.33467950e-06, 3.07804088e-10,\n",
       "        9.99992490e-01, 1.26922306e-09, 3.09986831e-07, 7.98219332e-07,\n",
       "        6.72202162e-14, 5.08939138e-06]], dtype=float32)>"
      ]
     },
     "execution_count": 22,
     "metadata": {},
     "output_type": "execute_result"
    }
   ],
   "source": [
    "probability_model = tf.keras.Sequential([\n",
    "    model,\n",
    "    tf.keras.layers.Softmax() # apply activation function\n",
    "])\n",
    "probability_model(x_test[:5]) # probability of the model up to 5th cell"
   ]
  },
  {
   "cell_type": "code",
   "execution_count": null,
   "id": "944b4871",
   "metadata": {},
   "outputs": [],
   "source": []
  }
 ],
 "metadata": {
  "kernelspec": {
   "display_name": "Python 3 (ipykernel)",
   "language": "python",
   "name": "python3"
  },
  "language_info": {
   "codemirror_mode": {
    "name": "ipython",
    "version": 3
   },
   "file_extension": ".py",
   "mimetype": "text/x-python",
   "name": "python",
   "nbconvert_exporter": "python",
   "pygments_lexer": "ipython3",
   "version": "3.9.12"
  }
 },
 "nbformat": 4,
 "nbformat_minor": 5
}
